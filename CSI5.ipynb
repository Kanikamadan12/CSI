{
 "cells": [
  {
   "cell_type": "code",
   "execution_count": 1,
   "id": "44880896-785a-4d3a-b5c8-9df20efaa9d8",
   "metadata": {},
   "outputs": [
    {
     "name": "stdout",
     "output_type": "stream",
     "text": [
      "Validation RMSE: 27963.900575285\n",
      "Submission file 'submission.csv' created.\n"
     ]
    }
   ],
   "source": [
    "import pandas as pd\n",
    "import numpy as np\n",
    "from sklearn.model_selection import train_test_split\n",
    "from sklearn.preprocessing import StandardScaler, LabelEncoder\n",
    "from sklearn.impute import SimpleImputer\n",
    "from sklearn.ensemble import RandomForestRegressor\n",
    "from sklearn.metrics import mean_squared_error\n",
    "\n",
    "# 1. Load Data\n",
    "train = pd.read_csv('train.csv')\n",
    "test = pd.read_csv('test.csv')\n",
    "\n",
    "# 2. Save test IDs and drop Id columns\n",
    "test_ID = test['Id']\n",
    "train.drop('Id', axis=1, inplace=True)\n",
    "test.drop('Id', axis=1, inplace=True)\n",
    "\n",
    "# 3. Separate target and features\n",
    "y = train['SalePrice']\n",
    "X = train.drop('SalePrice', axis=1)\n",
    "\n",
    "# 4. Drop columns with too many missing values\n",
    "missing_threshold = 0.4\n",
    "missing = X.isnull().mean()\n",
    "drop_cols = missing[missing > missing_threshold].index\n",
    "X.drop(columns=drop_cols, inplace=True)\n",
    "test.drop(columns=drop_cols, inplace=True)\n",
    "\n",
    "# 5. Combine X and test for uniform processing\n",
    "all_data = pd.concat([X, test], axis=0)\n",
    "\n",
    "# 6. Impute numeric features with median\n",
    "num_cols = all_data.select_dtypes(include=[np.number]).columns\n",
    "imputer_num = SimpleImputer(strategy='median')\n",
    "all_data[num_cols] = imputer_num.fit_transform(all_data[num_cols])\n",
    "\n",
    "# 7. Impute categorical features with mode\n",
    "cat_cols = all_data.select_dtypes(include=['object']).columns\n",
    "imputer_cat = SimpleImputer(strategy='most_frequent')\n",
    "all_data[cat_cols] = imputer_cat.fit_transform(all_data[cat_cols])\n",
    "\n",
    "# 8. Encode categorical features\n",
    "label_encoders = {}\n",
    "for col in cat_cols:\n",
    "    le = LabelEncoder()\n",
    "    all_data[col] = le.fit_transform(all_data[col])\n",
    "    label_encoders[col] = le\n",
    "\n",
    "# 9. Feature Scaling\n",
    "scaler = StandardScaler()\n",
    "all_data_scaled = pd.DataFrame(scaler.fit_transform(all_data), columns=all_data.columns)\n",
    "\n",
    "# 10. Split back to train/test\n",
    "X_scaled = all_data_scaled.iloc[:len(X), :]\n",
    "X_test_scaled = all_data_scaled.iloc[len(X):, :]\n",
    "\n",
    "# 11. Train-validation split\n",
    "X_train, X_val, y_train, y_val = train_test_split(X_scaled, y, test_size=0.2, random_state=42)\n",
    "\n",
    "# 12. Model Training\n",
    "model = RandomForestRegressor(n_estimators=100, random_state=42)\n",
    "model.fit(X_train, y_train)\n",
    "\n",
    "# 13. Validation Prediction\n",
    "y_val_pred = model.predict(X_val)\n",
    "rmse = np.sqrt(mean_squared_error(y_val, y_val_pred))\n",
    "print(\"Validation RMSE:\", rmse)\n",
    "\n",
    "# 14. Test Set Prediction\n",
    "y_test_pred = model.predict(X_test_scaled)\n",
    "\n",
    "# 15. Save Submission File\n",
    "submission = pd.DataFrame({\n",
    "    'Id': test_ID,\n",
    "    'SalePrice': y_test_pred\n",
    "})\n",
    "submission.to_csv('submission.csv', index=False)\n",
    "print(\"Submission file 'submission.csv' created.\")"
   ]
  },
  {
   "cell_type": "code",
   "execution_count": null,
   "id": "a1af8140-f245-4940-8286-a3e424df4581",
   "metadata": {},
   "outputs": [],
   "source": []
  }
 ],
 "metadata": {
  "kernelspec": {
   "display_name": "Python [conda env:base] *",
   "language": "python",
   "name": "conda-base-py"
  },
  "language_info": {
   "codemirror_mode": {
    "name": "ipython",
    "version": 3
   },
   "file_extension": ".py",
   "mimetype": "text/x-python",
   "name": "python",
   "nbconvert_exporter": "python",
   "pygments_lexer": "ipython3",
   "version": "3.12.7"
  }
 },
 "nbformat": 4,
 "nbformat_minor": 5
}
